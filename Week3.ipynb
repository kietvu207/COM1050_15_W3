{
  "cells": [
    {
      "cell_type": "code",
      "source": [
        "#W3A2\n",
        "a = int(input())\n",
        "b = int(input())\n",
        "a = a ^ b\n",
        "b = a ^ b\n",
        "a = a ^ b\n",
        "print(\"a =\", a, \"b =\", b)"
      ],
      "metadata": {
        "colab": {
          "base_uri": "https://localhost:8080/"
        },
        "id": "lR5gZLnEAzMh",
        "outputId": "a53d5e56-3134-44bd-96df-183d7bae5027"
      },
      "id": "lR5gZLnEAzMh",
      "execution_count": null,
      "outputs": [
        {
          "output_type": "stream",
          "name": "stdout",
          "text": [
            "1\n",
            "2\n",
            "a = 2 b = 1\n"
          ]
        }
      ]
    },
    {
      "cell_type": "code",
      "source": [
        "#W3A3\n",
        "n = int(input())\n",
        "if n > 0 and (n & (n - 1)) == 0:\n",
        "    print(\"Phải\")\n",
        "else:\n",
        "    print(\"Không phải\")"
      ],
      "metadata": {
        "colab": {
          "base_uri": "https://localhost:8080/"
        },
        "id": "k_atwCmgA_Qa",
        "outputId": "9cf781bb-9f92-4bca-a8a0-1c061f39823e"
      },
      "id": "k_atwCmgA_Qa",
      "execution_count": null,
      "outputs": [
        {
          "output_type": "stream",
          "name": "stdout",
          "text": [
            "3\n",
            "Không phải\n"
          ]
        }
      ]
    },
    {
      "cell_type": "code",
      "source": [
        "#W3A4\n",
        "m = int(input())\n",
        "n = int(input())\n",
        "print(m // n)"
      ],
      "metadata": {
        "colab": {
          "base_uri": "https://localhost:8080/"
        },
        "id": "BAJVW3GeBCwq",
        "outputId": "cabdfa75-9552-4a19-c6ae-97286be77854"
      },
      "id": "BAJVW3GeBCwq",
      "execution_count": null,
      "outputs": [
        {
          "output_type": "stream",
          "name": "stdout",
          "text": [
            "3\n",
            "4\n",
            "0\n"
          ]
        }
      ]
    },
    {
      "cell_type": "code",
      "source": [
        "#W3A5\n",
        "m = int(input())\n",
        "n = int(input())\n",
        "print((m + n - 1) // n)"
      ],
      "metadata": {
        "id": "FcIJO3rMBEkG"
      },
      "id": "FcIJO3rMBEkG",
      "execution_count": null,
      "outputs": []
    },
    {
      "cell_type": "code",
      "source": [
        "#W3A6\n",
        "x = int(input())\n",
        "if x % 2 == 0:\n",
        "    print(\"Chẵn\")\n",
        "else:\n",
        "    print(\"Lẻ\")"
      ],
      "metadata": {
        "id": "OddcPvhXBJEr"
      },
      "id": "OddcPvhXBJEr",
      "execution_count": null,
      "outputs": []
    },
    {
      "cell_type": "code",
      "source": [
        "#W3A7\n",
        "a = int(input())\n",
        "b = int(input())\n",
        "if a < 0 and b < 0:\n",
        "    print(\"Yes\")\n",
        "else:\n",
        "    print(\"No\")"
      ],
      "metadata": {
        "id": "SXw-IqWsBK1x"
      },
      "id": "SXw-IqWsBK1x",
      "execution_count": null,
      "outputs": []
    },
    {
      "cell_type": "code",
      "source": [
        "#W3A8\n",
        "a = input()\n",
        "b = input()\n",
        "if len(a) > len(b):\n",
        "    print(\"True\")\n",
        "else:\n",
        "    print(\"False\")"
      ],
      "metadata": {
        "id": "eckQy_OgBNF5"
      },
      "id": "eckQy_OgBNF5",
      "execution_count": null,
      "outputs": []
    },
    {
      "cell_type": "code",
      "source": [
        "#W3A9\n",
        "a = int(input())\n",
        "b = int(input())\n",
        "c = int(input())\n",
        "if a + b > c and a + c > b and b + c > a:\n",
        "    print(\"Yes\")\n",
        "else:\n",
        "    print(\"No\")"
      ],
      "metadata": {
        "id": "oagOeguPBQcM"
      },
      "id": "oagOeguPBQcM",
      "execution_count": null,
      "outputs": []
    },
    {
      "cell_type": "code",
      "source": [
        "#W3A10\n",
        "a, b, c, d = (input(\"Hãy nhập 4 số nguyên: \").split())\n",
        "a = int(a)\n",
        "b = int(b)\n",
        "c = int(c)\n",
        "d = int(d)\n",
        "if a > b and a > c and a > d:\n",
        "    print(a)\n",
        "elif b > a and b > c and b > d:\n",
        "    print(b)\n",
        "elif c > a and c > b and c > d:\n",
        "    print(c)\n",
        "else:\n",
        "    print(d)"
      ],
      "metadata": {
        "colab": {
          "base_uri": "https://localhost:8080/"
        },
        "id": "k1--5KJ1BS4c",
        "outputId": "03483a9f-c70c-4a9c-acf3-1835ed50cb3b"
      },
      "id": "k1--5KJ1BS4c",
      "execution_count": null,
      "outputs": [
        {
          "output_type": "stream",
          "name": "stdout",
          "text": [
            "Hãy nhập 4 số nguyên: 1 2 3 4\n",
            "4\n"
          ]
        }
      ]
    },
    {
      "cell_type": "code",
      "source": [
        "#W3A11\n",
        "a = int(input())\n",
        "b = int(input())\n",
        "c = int(input())\n",
        "if a + b > c and a + c > b and b + c > a:\n",
        "    if a == b == c:\n",
        "        print(\"Tam giác đều\")\n",
        "    elif a == b or b == c or a == c:\n",
        "        print(\"Tam giác cân\")\n",
        "    else:\n",
        "        print(\"Tam giác thường\")\n",
        "else:\n",
        "    print(\"Không phải tam giác\")"
      ],
      "metadata": {
        "id": "TRaF7IMkBn5R"
      },
      "id": "TRaF7IMkBn5R",
      "execution_count": null,
      "outputs": []
    },
    {
      "cell_type": "code",
      "source": [
        "#W3A12\n",
        "n = int(input())\n",
        "if (n % 4 == 0 and n % 100 != 0) or (n % 400 == 0):\n",
        "    print(\"Yes\")\n",
        "else:\n",
        "    print(\"No\")"
      ],
      "metadata": {
        "id": "siyYJ_qSBzVY"
      },
      "id": "siyYJ_qSBzVY",
      "execution_count": null,
      "outputs": []
    },
    {
      "cell_type": "code",
      "source": [
        "#W3A14\n",
        "a = float(input())\n",
        "b = float(input())\n",
        "if a == 0:\n",
        "    print(\"Vô số nghiệm\" if b == 0 else \"Vô nghiệm\")\n",
        "else:\n",
        "    x = -b / a\n",
        "    print(round(x, 2))"
      ],
      "metadata": {
        "id": "MdOORTcSB2qd"
      },
      "id": "MdOORTcSB2qd",
      "execution_count": null,
      "outputs": []
    },
    {
      "cell_type": "code",
      "source": [
        "#W3A15\n",
        "score = float(input())\n",
        "if score >= 8.0:\n",
        "    print(\"Giỏi\")\n",
        "elif score >= 6.5:\n",
        "    print(\"Khá\")\n",
        "elif score >= 5.0:\n",
        "    print(\"Trung bình\")\n",
        "else:\n",
        "    print(\"Yếu\")"
      ],
      "metadata": {
        "id": "i6NiSfs8CI_1"
      },
      "id": "i6NiSfs8CI_1",
      "execution_count": null,
      "outputs": []
    },
    {
      "cell_type": "code",
      "source": [
        "#W3A16\n",
        "so = float(input(\"Nhập số thực: \"))\n",
        "nguyen = int(so)\n",
        "lam_tron_xuong = nguyen\n",
        "if so > nguyen:\n",
        "    lam_tron_len = nguyen + 1\n",
        "else:\n",
        "    lam_tron_len = nguyen\n",
        "phan_thap_phan = so - nguyen\n",
        "if phan_thap_phan >= 0.5:\n",
        "    lam_tron_gan_nhat = nguyen + 1\n",
        "else:\n",
        "    lam_tron_gan_nhat = nguyen\n",
        "print(lam_tron_len, lam_tron_xuong, lam_tron_gan_nhat)"
      ],
      "metadata": {
        "id": "0M2ZuPgcCbI1",
        "outputId": "ed54a9a6-9b93-4133-8edc-11eb3e668e7a",
        "colab": {
          "base_uri": "https://localhost:8080/"
        }
      },
      "id": "0M2ZuPgcCbI1",
      "execution_count": null,
      "outputs": [
        {
          "output_type": "stream",
          "name": "stdout",
          "text": [
            "Nhập số thực: 4.6\n",
            "5 4 5\n"
          ]
        }
      ]
    },
    {
      "cell_type": "code",
      "source": [
        "#W3A17\n",
        "a, b, c, d = (input(\"Hãy nhập 4 số nguyên: \").split())\n",
        "a = int(a)\n",
        "b = int(b)\n",
        "c = int(c)\n",
        "d = int(d)\n",
        "if b % a == 0:\n",
        "    r = b // a\n",
        "    if b * r == c and c * r == d:\n",
        "        print(\"Có tạo thành CSN\")\n",
        "    else:\n",
        "        print(\"Không tạo thành CSN\")\n",
        "else:\n",
        "    print(\"Không tạo thành CSN\")"
      ],
      "metadata": {
        "id": "xDuEFVkWCa_W"
      },
      "id": "xDuEFVkWCa_W",
      "execution_count": null,
      "outputs": []
    }
  ],
  "metadata": {
    "celltoolbar": "Tags",
    "kernelspec": {
      "display_name": "Python 3 (ipykernel)",
      "language": "python",
      "name": "python3"
    },
    "language_info": {
      "codemirror_mode": {
        "name": "ipython",
        "version": 3
      },
      "file_extension": ".py",
      "mimetype": "text/x-python",
      "name": "python",
      "nbconvert_exporter": "python",
      "pygments_lexer": "ipython3",
      "version": "3.10.11"
    },
    "colab": {
      "provenance": []
    }
  },
  "nbformat": 4,
  "nbformat_minor": 5
}